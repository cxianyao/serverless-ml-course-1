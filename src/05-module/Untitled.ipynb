{
 "cells": [
  {
   "cell_type": "code",
   "execution_count": 1,
   "id": "408ece1a",
   "metadata": {},
   "outputs": [],
   "source": [
    "tid = 3\n",
    "cc_num = 4\n",
    "amount = 6"
   ]
  },
  {
   "cell_type": "code",
   "execution_count": 2,
   "id": "5c9f6758",
   "metadata": {},
   "outputs": [],
   "source": [
    "haha = [[\"tid\",\"cc_num\",\"amount\"]]"
   ]
  },
  {
   "cell_type": "code",
   "execution_count": 3,
   "id": "06121f66",
   "metadata": {},
   "outputs": [
    {
     "data": {
      "text/plain": [
       "[['tid', 'cc_num', 'amount']]"
      ]
     },
     "execution_count": 3,
     "metadata": {},
     "output_type": "execute_result"
    }
   ],
   "source": [
    "haha"
   ]
  },
  {
   "cell_type": "code",
   "execution_count": null,
   "id": "f95e87c4",
   "metadata": {},
   "outputs": [],
   "source": [
    "haha = haha[[\"tid\",\"cc_num\"]]"
   ]
  },
  {
   "cell_type": "code",
   "execution_count": null,
   "id": "439c6079",
   "metadata": {},
   "outputs": [],
   "source": []
  },
  {
   "cell_type": "code",
   "execution_count": null,
   "id": "86aebd4a",
   "metadata": {},
   "outputs": [],
   "source": []
  },
  {
   "cell_type": "code",
   "execution_count": null,
   "id": "ed5dc959",
   "metadata": {},
   "outputs": [],
   "source": [
    "trans_df = trans_df[[\"tid\",\"datetime\",\"cc_num\",\"category\", \"amount\", \"city\", \"country\", \"age_at_transaction\"\\\n",
    "                         ,\"days_until_card_expires\", f\"loc_delta_t_minus_{lag}\", f\"time_delta_t_minus_{lag}\"]]"
   ]
  },
  {
   "cell_type": "code",
   "execution_count": null,
   "id": "2c15ce0d",
   "metadata": {},
   "outputs": [],
   "source": []
  },
  {
   "cell_type": "code",
   "execution_count": null,
   "id": "5e5c2bcc",
   "metadata": {},
   "outputs": [],
   "source": []
  }
 ],
 "metadata": {
  "kernelspec": {
   "display_name": "Python 3 (ipykernel)",
   "language": "python",
   "name": "python3"
  },
  "language_info": {
   "codemirror_mode": {
    "name": "ipython",
    "version": 3
   },
   "file_extension": ".py",
   "mimetype": "text/x-python",
   "name": "python",
   "nbconvert_exporter": "python",
   "pygments_lexer": "ipython3",
   "version": "3.9.6"
  }
 },
 "nbformat": 4,
 "nbformat_minor": 5
}
